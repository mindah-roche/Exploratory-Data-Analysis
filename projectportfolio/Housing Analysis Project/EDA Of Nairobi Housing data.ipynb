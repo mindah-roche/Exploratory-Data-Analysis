{
 "cells": [
  {
   "cell_type": "code",
   "execution_count": 1,
   "metadata": {},
   "outputs": [],
   "source": [
    "# In this project we will look at Naitrobi housing data retrieved from Kaggle. univariate, bivariate,\n",
    "#  and multivariate analyses will be perfomred on differemt features of the dataset to understand, how they influence the price of hosues"
   ]
  },
  {
   "cell_type": "code",
   "execution_count": null,
   "metadata": {},
   "outputs": [],
   "source": [
    "#importing necessary libraries\n",
    "import pandas as pd\n",
    "import matplotlib.pyplot as plt\n",
    "import plotly.express as px"
   ]
  },
  {
   "cell_type": "code",
   "execution_count": 1,
   "metadata": {},
   "outputs": [
    {
     "ename": "NameError",
     "evalue": "name 'pd' is not defined",
     "output_type": "error",
     "traceback": [
      "\u001b[1;31m---------------------------------------------------------------------------\u001b[0m",
      "\u001b[1;31mNameError\u001b[0m                                 Traceback (most recent call last)",
      "Cell \u001b[1;32mIn[1], line 3\u001b[0m\n\u001b[0;32m      1\u001b[0m \u001b[38;5;66;03m# load csv file into dataframes\\\u001b[39;00m\n\u001b[0;32m      2\u001b[0m file \u001b[38;5;241m=\u001b[39m \u001b[38;5;124mr\u001b[39m\u001b[38;5;124m\"\u001b[39m\u001b[38;5;124mC:/Users\u001b[39m\u001b[38;5;124m\\\u001b[39m\u001b[38;5;124mMindah Roche\u001b[39m\u001b[38;5;124m\\\u001b[39m\u001b[38;5;124mDesktop\u001b[39m\u001b[38;5;124m\\\u001b[39m\u001b[38;5;124mrent_apts.csv\u001b[39m\u001b[38;5;124m\"\u001b[39m\n\u001b[1;32m----> 3\u001b[0m df \u001b[38;5;241m=\u001b[39m \u001b[43mpd\u001b[49m\u001b[38;5;241m.\u001b[39mread_csv(file)\n\u001b[0;32m      4\u001b[0m df\u001b[38;5;241m.\u001b[39mhead()\n",
      "\u001b[1;31mNameError\u001b[0m: name 'pd' is not defined"
     ]
    }
   ],
   "source": [
    "# load csv file into dataframes\\\n",
    "file = r\"C:/Users\\Mindah Roche\\Desktop\\rent_apts.csv\"\n",
    "df = pd.read_csv(file)\n",
    "df.head()"
   ]
  },
  {
   "cell_type": "code",
   "execution_count": null,
   "metadata": {},
   "outputs": [],
   "source": [
    "# inspecting the dataframe using head, shape, and info in pandas\n",
    "df.info()\n",
    "df.shape\n",
    "df.head(5)"
   ]
  },
  {
   "cell_type": "code",
   "execution_count": 3,
   "metadata": {},
   "outputs": [],
   "source": [
    "# drop null values\n",
    "df.dropna(inplace=True)"
   ]
  },
  {
   "cell_type": "code",
   "execution_count": null,
   "metadata": {},
   "outputs": [],
   "source": [
    "df[\"Price\"] "
   ]
  },
  {
   "cell_type": "code",
   "execution_count": null,
   "metadata": {},
   "outputs": [],
   "source": [
    "# clean Price column\n",
    "df[\"Price\"] = df[\"Price\"].str.replace(\"KSh\", \"\", regex=False).str.replace(\",\", \"\").astype(float)\n",
    "df.head(5)"
   ]
  },
  {
   "cell_type": "code",
   "execution_count": null,
   "metadata": {},
   "outputs": [],
   "source": [
    "# clean Neighborhood column\n",
    "# Fill null entries in the column to allow for column split\n",
    "df[\"Neighborhood\"].fillna(\"\", inplace =True)\n",
    "df[\"Neighborhood\"] = df[\"Neighborhood\"].str.split(\",\", expand=True)[0]\n",
    "df.head()"
   ]
  },
  {
   "cell_type": "code",
   "execution_count": null,
   "metadata": {},
   "outputs": [],
   "source": [
    "# drop link column\n",
    "df.drop(columns=[\"link\"])"
   ]
  },
  {
   "cell_type": "code",
   "execution_count": null,
   "metadata": {},
   "outputs": [],
   "source": [
    "# Performing Univariate Analysis: Understanding Individual Features\n",
    "# What is the distribution of property prices? Are they skewed? Are there outliers?\n",
    "df[[\"sq_mtrs\", \"Price\"]].describe()"
   ]
  },
  {
   "cell_type": "code",
   "execution_count": null,
   "metadata": {},
   "outputs": [],
   "source": [
    "# Key Observations\n",
    "The \"sq_mtrs\" column has potential data issues:\n",
    "\n",
    "The minimum (0 sq. meters) is likely an error.\n",
    "The mean (375.83) is very different from the quartiles (2, 3, 13), suggesting extreme outliers or incorrect units.\n",
    "Property sizes are extremely varied (standard deviation of 2,220), suggesting some properties may be misclassified (e.g., land areas vs. built areas).\n",
    "\n",
    "Most properties have 2-3 bedrooms and 2-3 bathrooms. Only a few have 6.\n",
    "\n",
    "Prices range from KSs12,000 to Ksh240,000, with a median of Ksh95,000."
   ]
  },
  {
   "cell_type": "code",
   "execution_count": null,
   "metadata": {},
   "outputs": [],
   "source": [
    "# Categorizing data by Neighborhood\n",
    "df[\"Neighborhood\"].value_counts().head(10)"
   ]
  },
  {
   "cell_type": "code",
   "execution_count": null,
   "metadata": {},
   "outputs": [],
   "source": [
    "# Creating a Histogram of \"sq_mtrs\"\n",
    "plt.hist(df[\"sq_mtrs\"])\n",
    "# x axis label\n",
    "plt.xlabel(\"Area [Sq Meters]\")\n",
    "# ylabel\n",
    "plt.ylabel(\"Frequency\")\n",
    "# title \n",
    "plt.title(\"Distribution of Home Sizes\");\n"
   ]
  },
  {
   "cell_type": "code",
   "execution_count": null,
   "metadata": {},
   "outputs": [],
   "source": [
    "# Use Matplotlib to create boxplot of \"area_m2\"\n",
    "plt.boxplot(df[\"sq_mtrs\"], vert=False)\n",
    "\n",
    "# Add x-axis label\n",
    "plt.xlabel(\"Area [sq meters]\")\n",
    "\n",
    "# Add title\n",
    "plt.title(\"Distribution of Home Sizes\");"
   ]
  },
  {
   "cell_type": "code",
   "execution_count": null,
   "metadata": {},
   "outputs": [],
   "source": [
    "# Creating Histogram of Price\n",
    "plt.hist(df[\"Price\"])\n",
    "# Xlabel\n",
    "plt.xlabel(\"Price[Ksh]\")\n",
    "# ylable\n",
    "plt.ylabel(\"Frequency\")\n",
    "# title\n",
    "plt.title(\"Distribution of Home Prices\");"
   ]
  },
  {
   "cell_type": "code",
   "execution_count": null,
   "metadata": {},
   "outputs": [],
   "source": [
    "# Creating boxplot of Price\n",
    "plt.boxplot(df[\"Price\"], vert=False)\n",
    "# x axis label\n",
    "plt.xlabel(\"Price[Ksh]\")\n",
    "# Title\n",
    "plt.title(\"Distriution of Home Prices\");"
   ]
  },
  {
   "cell_type": "code",
   "execution_count": null,
   "metadata": {},
   "outputs": [],
   "source": [
    "# what is the most expensive neighborhood by price?\n",
    "mean_price_by_neighborhood = df.groupby(\"Neighborhood\")[\"Price\"].mean().sort_values(ascending=False)\n",
    "mean_price_by_neighborhood.head(10)"
   ]
  },
  {
   "cell_type": "code",
   "execution_count": null,
   "metadata": {},
   "outputs": [],
   "source": [
    "# What is the least expensive neighbourhood?\n",
    "mean_price_by_neighborhood = df.groupby(\"Neighborhood\")[\"Price\"].mean().sort_values(ascending=False)\n",
    "mean_price_by_neighborhood.tail(10)"
   ]
  },
  {
   "cell_type": "code",
   "execution_count": null,
   "metadata": {},
   "outputs": [],
   "source": [
    "# Comparing house prices by different agencies for same neighborhoods\n",
    "mean_house_price_agency = df.groupby([\"Agency\", \"Neighborhood\"])[\"Price\"].mean().sort_values(ascending=False)\n",
    "mean_house_price_agency.head(10)"
   ]
  },
  {
   "cell_type": "code",
   "execution_count": null,
   "metadata": {},
   "outputs": [],
   "source": [
    "# Agency with most property listing\n",
    "Number_of_houses_by_agency = df[\"Agency\"].value_counts()\n",
    "Number_of_houses_by_agency "
   ]
  },
  {
   "cell_type": "code",
   "execution_count": null,
   "metadata": {},
   "outputs": [],
   "source": [
    "# relationship between proterty size and price using scatterplot\n",
    "import seaborn as sns\n",
    "import matplotlib.pyplot as plt\n",
    "\n",
    "plt.figure(figsize=(10, 6))\n",
    "sns.scatterplot(data=df, x=\"sq_mtrs\", y=\"Price\", alpha=0.7, color=\"blue\")\n",
    "\n",
    "plt.xlabel(\"Property Size (Square Metres)\")\n",
    "plt.ylabel(\"Price (Ksh)\")\n",
    "plt.title(\"Property Size vs. Price\")\n",
    "plt.grid(True)\n",
    "plt.show()\n",
    "\n"
   ]
  },
  {
   "cell_type": "code",
   "execution_count": null,
   "metadata": {},
   "outputs": [],
   "source": [
    " # relationship between proterty size and price using regression line\n",
    "plt.figure(figsize=(10, 6))\n",
    "sns.regplot(data=df, x=\"sq_mtrs\", y=\"Price\", scatter_kws={\"alpha\": 0.5}, line_kws={\"color\": \"red\"})\n",
    "\n",
    "plt.xlabel(\"Property Size (Square Metres)\")\n",
    "plt.ylabel(\"Price (Ksh)\")\n",
    "plt.title(\"Property Size vs. Price with Regression Line\")\n",
    "plt.show()\n"
   ]
  },
  {
   "cell_type": "code",
   "execution_count": null,
   "metadata": {},
   "outputs": [],
   "source": [
    "#  relationship between proterty size and price using correlation coefficient\n",
    "correlation = df[\"sq_mtrs\"].corr(df[\"Price\"])\n",
    "print(f\"Correlation between Property Size and Price: {correlation:.2f}\")\n"
   ]
  },
  {
   "cell_type": "code",
   "execution_count": null,
   "metadata": {},
   "outputs": [],
   "source": [
    "#  relationship between proterty size and price using Boxplot\n",
    "df[\"Size_Category\"] = pd.cut(df[\"sq_mtrs\"], bins=[0, 50, 100, 200, 500, 1000, df[\"sq_mtrs\"].max()], labels=[\"<50\", \"50-100\", \"100-200\", \"200-500\", \"500-1000\", \">1000\"])\n",
    "\n",
    "plt.figure(figsize=(12, 6))\n",
    "sns.boxplot(data=df, x=\"Size_Category\", y=\"Price\")\n",
    "\n",
    "plt.xlabel(\"Property Size Category (Square Metres)\")\n",
    "plt.ylabel(\"Price (Ksh)\")\n",
    "plt.title(\"Price Distribution by Property Size\")\n",
    "plt.show()\n"
   ]
  },
  {
   "cell_type": "code",
   "execution_count": null,
   "metadata": {},
   "outputs": [],
   "source": [
    "#  relationship between proterty size and price using linear regression model\n",
    "from sklearn.linear_model import LinearRegression\n",
    "import numpy as np\n",
    "\n",
    "# Reshape data\n",
    "X = df[\"sq_mtrs\"].values.reshape(-1, 1)\n",
    "y = df[\"Price\"].values\n",
    "\n",
    "# Train model\n",
    "model = LinearRegression()\n",
    "model.fit(X, y)\n",
    "\n",
    "# Predict\n",
    "df[\"Predicted_Price\"] = model.predict(X)\n",
    "\n",
    "# Print model coefficient\n",
    "print(f\"Price increases by {model.coef_[0]:,.2f} Ksh per square metre\")\n"
   ]
  },
  {
   "cell_type": "code",
   "execution_count": null,
   "metadata": {},
   "outputs": [],
   "source": [
    "# Calculate correlation matrix\n",
    "correlation = df[[\"Bedrooms\", \"Bathrooms\", \"Price\"]].corr()\n",
    "print(correlation)\n"
   ]
  },
  {
   "cell_type": "code",
   "execution_count": null,
   "metadata": {},
   "outputs": [],
   "source": []
  }
 ],
 "metadata": {
  "kernelspec": {
   "display_name": "base",
   "language": "python",
   "name": "python3"
  },
  "language_info": {
   "codemirror_mode": {
    "name": "ipython",
    "version": 3
   },
   "file_extension": ".py",
   "mimetype": "text/x-python",
   "name": "python",
   "nbconvert_exporter": "python",
   "pygments_lexer": "ipython3",
   "version": "3.10.9"
  }
 },
 "nbformat": 4,
 "nbformat_minor": 2
}
